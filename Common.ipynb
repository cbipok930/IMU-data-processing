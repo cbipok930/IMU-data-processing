{
 "cells": [
  {
   "cell_type": "code",
   "execution_count": 1,
   "id": "370b5984-5b21-4d97-ad82-dd6cddf25236",
   "metadata": {},
   "outputs": [],
   "source": [
    "import cv2\n",
    "import time\n",
    "import numpy as np\n",
    "from matplotlib import pyplot as plt\n",
    "from imu_bno import Imu\n",
    "# from PIL import Image\n",
    "\n",
    "from adafruit_bno08x import BNO_REPORT_ACCELEROMETER, BNO_REPORT_GYROSCOPE, BNO_REPORT_MAGNETOMETER, BNO_REPORT_GRAVITY, BNO_REPORT_ROTATION_VECTOR, BNO_REPORT_GEOMAGNETIC_ROTATION_VECTOR\n",
    "import busio\n",
    "\n",
    "import cv2\n",
    "from IPython.display import display, Image\n",
    "from scipy.spatial.transform import Rotation as R\n",
    "\n",
    "import matplotlib.pyplot as plt\n",
    "from mpl_toolkits.mplot3d import Axes3D"
   ]
  },
  {
   "cell_type": "code",
   "execution_count": 38,
   "id": "4567f3e9-a547-44bc-a1ba-744fe7282fad",
   "metadata": {},
   "outputs": [],
   "source": [
    "import skimage as ski"
   ]
  },
  {
   "cell_type": "markdown",
   "id": "42478b0b-0f1c-4d19-aae9-56153dd2eb82",
   "metadata": {},
   "source": [
    "# Camera reading frequency"
   ]
  },
  {
   "cell_type": "code",
   "execution_count": null,
   "id": "d1f0c283-e022-4741-87d3-cf9fe53f75a6",
   "metadata": {},
   "outputs": [],
   "source": [
    "\n",
    "\n",
    "cap = cv2.VideoCapture(0)\n",
    "intervals = []\n",
    "\n",
    "n = 5000\n",
    "start_all = time.time()\n",
    "for _ in range(n):\n",
    "    start = time.time()\n",
    "    ret, frame = cap.read()\n",
    "    end = time.time()\n",
    "    intervals.append(end-start)\n",
    "    start = end\n",
    "end_all = time.time()\n",
    "\n",
    "print(n/(end_all-start_all))\n",
    "print(min(intervals))\n",
    "print(max(intervals))\n",
    "print((sum(intervals)/len(intervals)))\n",
    "cap.release()"
   ]
  },
  {
   "cell_type": "code",
   "execution_count": null,
   "id": "5772b1df-c880-43dd-ae27-4184996f742e",
   "metadata": {},
   "outputs": [],
   "source": [
    "# intervals = [x**(-1) for x in intervals]\n",
    "plt.hist(intervals)"
   ]
  },
  {
   "cell_type": "markdown",
   "id": "b44b88c4-2c6e-48c8-84a0-e949257931d1",
   "metadata": {},
   "source": [
    "# Imu"
   ]
  },
  {
   "cell_type": "code",
   "execution_count": null,
   "id": "7731867b-9255-4b4b-8036-3d7bd075a693",
   "metadata": {},
   "outputs": [],
   "source": [
    "i2c = busio.I2C((1, 14), (1, 15))\n",
    "dev = Imu(i2c, address=0x4b)\n",
    "dev.enable_feature(BNO_REPORT_GRAVITY)"
   ]
  },
  {
   "cell_type": "code",
   "execution_count": null,
   "id": "382d9d8e-d65c-4543-9a4f-e65604503aa3",
   "metadata": {},
   "outputs": [],
   "source": [
    "n = 5000\n",
    "intervals = []\n",
    "start_all = time.time()\n",
    "for _ in range(n):\n",
    "    start = time.time()\n",
    "    _ = dev.gravity\n",
    "    end = time.time()\n",
    "    intervals.append(end-start)\n",
    "    start = end\n",
    "end_all = time.time()\n",
    "\n",
    "print(n/(end_all-start_all))\n",
    "print(min(intervals))\n",
    "print(max(intervals))\n",
    "print((sum(intervals)/len(intervals)))"
   ]
  },
  {
   "cell_type": "code",
   "execution_count": null,
   "id": "b05c7df2-635d-40f0-b1c9-7ea119418190",
   "metadata": {},
   "outputs": [],
   "source": [
    "# intervals = [x**(-1) for x in intervals]\n",
    "plt.hist(intervals)"
   ]
  },
  {
   "cell_type": "markdown",
   "id": "ce193df4-73dc-4c67-9c25-7b89c9dcceb1",
   "metadata": {},
   "source": [
    "# Вывод"
   ]
  },
  {
   "cell_type": "markdown",
   "id": "1b06b1b4-93e8-4776-8c25-9999d1890259",
   "metadata": {},
   "source": [
    "Средняя частота чтения с камеры ~29 fps. При этом максимальный возможный интервал соответствует ~4 Гц (Скорее вссего первое чтение)\n",
    ">\n",
    ">\n",
    "Чтение иму составляет ~600 Гц, с максимальным интервалом ~40 Гц.\n",
    ">\n",
    ">\n",
    "Первый вариант синхронизации данных:\n",
    ">\n",
    ">\n",
    "Чтение фрейма, затем чтение IMU"
   ]
  },
  {
   "cell_type": "markdown",
   "id": "0e4f148d-8fa5-4dd9-aa9f-2e10d48b7eb1",
   "metadata": {},
   "source": [
    "# Проверка камеры"
   ]
  },
  {
   "cell_type": "code",
   "execution_count": 2,
   "id": "3e1c831e-5c56-445d-a50e-5acc7e540115",
   "metadata": {},
   "outputs": [
    {
     "data": {
      "text/plain": [
       "None"
      ]
     },
     "metadata": {},
     "output_type": "display_data"
    }
   ],
   "source": [
    "import cv2\n",
    "from IPython.display import display, Image\n",
    "\n",
    "video = cv2.VideoCapture(0)\n",
    "display_handle=display(None, display_id=True)\n",
    "try:\n",
    "    while True:\n",
    "        _, frame = video.read()\n",
    "        frame = cv2.flip(frame, 1)\n",
    "        # print(frame.shape, type(frame))\n",
    "        _, frame = cv2.imencode('.jpeg', frame)\n",
    "        display_handle.update(Image(data=frame.tobytes()))\n",
    "except KeyboardInterrupt:\n",
    "    pass\n",
    "finally:\n",
    "    video.release()\n",
    "    display_handle.update(None)"
   ]
  },
  {
   "cell_type": "markdown",
   "id": "b2c4fab6-783e-45df-9374-2b249ce20a5a",
   "metadata": {},
   "source": [
    "# Gravity"
   ]
  },
  {
   "cell_type": "code",
   "execution_count": null,
   "id": "2c4f1a02-65d9-49b8-aa04-cab1917fdc2a",
   "metadata": {},
   "outputs": [],
   "source": [
    "display_handle=display(None, display_id=True)\n",
    "try:   \n",
    "    i2c = busio.I2C((1, 14), (1, 15))\n",
    "    device = Imu(i2c, address=0x4b)\n",
    "    device.enable_feature(BNO_REPORT_GRAVITY)\n",
    "    X = 400\n",
    "    Y = 400\n",
    "    G = 9.80665\n",
    "    while True:\n",
    "        g1b, g2b, g3b = device.gravity\n",
    "\n",
    "        xb = int(((g1b + G) / (2 * G)) * X) - 1\n",
    "        yb = int(((-g2b + G) / (2 * G)) * Y) - 1\n",
    "        \n",
    "        image = np.ones((X, Y), dtype = np.uint8)\n",
    "        image.fill(0)\n",
    "        for y_ in range(yb-5, yb+5):\n",
    "            image[y_][xb-5:xb+5] = 255\n",
    "        image = cv2.cvtColor(image,cv2.COLOR_GRAY2RGB)\n",
    "        # image = cv2.flip(image, 1)\n",
    "        # print(image.shape, type(image))\n",
    "        _, image = cv2.imencode('.jpeg', image)\n",
    "        display_handle.update(Image(data=image.tobytes()))\n",
    "        \n",
    "except KeyboardInterrupt:\n",
    "    display_handle.update(None)\n",
    "    pass"
   ]
  },
  {
   "cell_type": "markdown",
   "id": "a91d8c6d-dddf-4877-9732-f31c3f052dba",
   "metadata": {},
   "source": [
    "# Odom"
   ]
  },
  {
   "cell_type": "code",
   "execution_count": 123,
   "id": "75ad74f5-aac1-4233-8aa7-647c58ab5cd2",
   "metadata": {},
   "outputs": [],
   "source": [
    "#https://github.com/adafruit/Adafruit_CircuitPython_BNO08x/blob/main/examples/bno08x_find_heading.py\n",
    "from math import atan2, sqrt, pi, degrees, radians, cos, sin\n",
    "import math\n",
    "i2c = busio.I2C((1, 14), (1, 15))\n",
    "device = Imu(i2c, address=0x4b)\n",
    "device.enable_feature(BNO_REPORT_GRAVITY)\n",
    "device.enable_feature(BNO_REPORT_ROTATION_VECTOR)\n",
    "device.enable_feature(BNO_REPORT_GEOMAGNETIC_ROTATION_VECTOR)\n",
    "\n",
    "#https://en.wikipedia.org/wiki/Conversion_between_quaternions_and_Euler_angles\n",
    "def find_heading(dqw, dqx, dqy, dqz):\n",
    "    norm = sqrt(dqw * dqw + dqx * dqx + dqy * dqy + dqz * dqz)\n",
    "    dqw = dqw / norm\n",
    "    dqx = dqx / norm\n",
    "    dqy = dqy / norm\n",
    "    dqz = dqz / norm\n",
    "\n",
    "    ysqr = dqy * dqy\n",
    "\n",
    "    t3 = +2.0 * (dqw * dqz + dqx * dqy)\n",
    "    t4 = +1.0 - 2.0 * (ysqr + dqz * dqz)\n",
    "    yaw_raw = atan2(t3, t4)\n",
    "    yaw = yaw_raw * 180.0 / pi\n",
    "    if yaw > 0:\n",
    "        yaw = 360 - yaw\n",
    "    else:\n",
    "        yaw = abs(yaw)\n",
    "    return yaw  # heading in 360 clockwise\n",
    "\n",
    "def find_roll(dqw, dqx, dqy, dqz):\n",
    "    norm = sqrt(dqw * dqw + dqx * dqx + dqy * dqy + dqz * dqz)\n",
    "    dqw = dqw / norm\n",
    "    dqx = dqx / norm\n",
    "    dqy = dqy / norm\n",
    "    dqz = dqz / norm\n",
    "    sinr_cosp = +2.0 * (dqw * dqx + dqy * dqz)\n",
    "    cosr_cosp = +1.0 - 2.0 * (dqx * dqx + dqy * dqy)\n",
    "    roll_raw = atan2(sinr_cosp, cosr_cosp)\n",
    "    roll = roll_raw * 180.0 / pi\n",
    "    if roll > 0:\n",
    "        roll = 360 - roll\n",
    "    else:\n",
    "        roll = abs(roll)\n",
    "    return roll\n",
    "\n",
    "def find_pitch(dqw, dqx, dqy, dqz):\n",
    "    norm = sqrt(dqw * dqw + dqx * dqx + dqy * dqy + dqz * dqz)\n",
    "    dqw = dqw / norm\n",
    "    dqx = dqx / norm\n",
    "    dqy = dqy / norm\n",
    "    dqz = dqz / norm\n",
    "    sinp = sqrt(+1.0 + 2.0 * (dqw * dqy - dqx * dqz))\n",
    "    cosp = sqrt(+1.0 - 2.0 * (dqw * dqy - dqx * dqz))\n",
    "    pitch_raw = +2.0 * atan2(sinp, cosp) - (pi / 2.0);\n",
    "    pitch = pitch_raw * 180.0 / pi\n",
    "    if pitch > 0:\n",
    "        pitch = 360 - pitch\n",
    "    else:\n",
    "        pitch = abs(pitch)\n",
    "    return pitch\n",
    "\n",
    "def dotproduct(v1, v2):\n",
    "  return sum((a*b) for a, b in zip(v1, v2))\n",
    "\n",
    "def length(v):\n",
    "  return math.sqrt(dotproduct(v, v))\n",
    "\n",
    "def angle(v1, v2):\n",
    "  return math.acos(dotproduct(v1, v2) / (length(v1) * length(v2)))"
   ]
  },
  {
   "cell_type": "code",
   "execution_count": null,
   "id": "94ad8e39-2e5b-4bbe-823a-56c8397782f0",
   "metadata": {},
   "outputs": [
    {
     "data": {
      "image/jpeg": "[encoded data removed]",
      "text/plain": [
       "<IPython.core.display.Image object>"
      ]
     },
     "metadata": {},
     "output_type": "display_data"
    },
    {
     "name": "stderr",
     "output_type": "stream",
     "text": [
      "/tmp/ipykernel_3282/2333455034.py:49: MatplotlibDeprecationWarning: The tostring_rgb function was deprecated in Matplotlib 3.8 and will be removed two minor releases later. Use buffer_rgba instead.\n",
      "  data = np.frombuffer(fig.canvas.tostring_rgb(), dtype=np.uint8)\n"
     ]
    }
   ],
   "source": [
    "fig = plt.figure()\n",
    "display_handle=display(None, display_id=True)\n",
    "try:   \n",
    "    X = 640\n",
    "    Y = 480\n",
    "    while True:\n",
    "\n",
    "        quat_i, quat_j, quat_k, quat_real = device.quaternion\n",
    "        heading = find_heading(quat_real, quat_i, quat_j, quat_k)\n",
    "        \n",
    "        r = R.from_quat([quat_i, quat_j, quat_k, quat_real])\n",
    "        vec_x = np.array([1., 0., 0.])\n",
    "        vec_y = np.array([0., -1., 0.])\n",
    "        vec_z = np.array([0., 0., -1.])\n",
    "\n",
    "        vec_x = r.apply(vec_x)\n",
    "        vec_y = r.apply(vec_y)\n",
    "        vec_z = r.apply(vec_z)\n",
    "\n",
    "        x_shadows = [[0, vec_x[1], vec_x[2]], [vec_x[0], 0, vec_x[2]], [vec_x[0], vec_x[1], 0]]\n",
    "        \n",
    "        image = np.ones((Y, X), dtype = np.uint8)\n",
    "        # image.fill(255)\n",
    "        image = cv2.cvtColor(image,cv2.COLOR_GRAY2RGB)\n",
    "        \n",
    "        \n",
    "        ax = fig.add_subplot(111, projection='3d')\n",
    "\n",
    "        ax.quiver(0, 0, -1.5, vec_x[0], vec_x[1], 0, color='gray')\n",
    "        ax.quiver(0, 0, -1.5, vec_y[0], vec_y[1], 0, color='gray')\n",
    "        ax.quiver(0, 0, -1.5, vec_z[0], vec_z[1], 0, color='gray')\n",
    "\n",
    "        ax.quiver(0, 0, 0, vec_x[0], vec_x[1], vec_x[2], color='green')\n",
    "        ax.quiver(0, 0, 0, vec_y[0], vec_y[1], vec_y[2], color='red')\n",
    "        ax.quiver(0, 0, 0, vec_z[0], vec_z[1], vec_z[2], color='blue')\n",
    "        \n",
    "        \n",
    "\n",
    "        ax.set_xlabel(\"восток\")\n",
    "        ax.set_ylabel(\"север\")\n",
    "        \n",
    "\n",
    "        ax.set_xlim([-1.1, 1.1])\n",
    "        ax.set_ylim([-1.1, 1.1])\n",
    "        ax.set_zlim([-1.1, 1.1])\n",
    "        fig.canvas.draw()\n",
    "\n",
    "                \n",
    "        data = np.frombuffer(fig.canvas.tostring_rgb(), dtype=np.uint8)\n",
    "        data = data.reshape(fig.canvas.get_width_height()[::-1] + (3,))\n",
    "        data = cv2.cvtColor(data,cv2.COLOR_RGB2BGR)\n",
    "        plt.clf()\n",
    "\n",
    "        data = cv2.putText(data, f'quat: {int(heading)}', (100, 100), cv2.FONT_HERSHEY_SIMPLEX ,  \n",
    "                   1, (0, 0, 0) , 2, cv2.LINE_AA)\n",
    "        \n",
    "        \n",
    "        \n",
    "        _, data = cv2.imencode('.jpeg', data)\n",
    "        display_handle.update(Image(data=data.tobytes()))\n",
    "        \n",
    "except KeyboardInterrupt:\n",
    "    display_handle.update(None)\n",
    "    pass"
   ]
  },
  {
   "cell_type": "code",
   "execution_count": 3,
   "id": "3c7d9fee-ca48-47ea-b1de-15c61ab535aa",
   "metadata": {},
   "outputs": [],
   "source": [
    "# fig = plt.figure()\n",
    "# ax = fig.add_subplot(projection='3d')\n",
    "\n",
    "# ax.view_init(15, 35)\n",
    "# ax.quiver(0, 0, 0, [vec[0], qx/9], [vec[1], qy/9], [vec[2], qz/9], color='steelblue')\n",
    "# fig.canvas.draw()\n",
    "# data = np.frombuffer(fig.canvas.tostring_rgb(), dtype=np.uint8)\n",
    "# data = data.reshape(fig.canvas.get_width_height()[::-1] + (3,))\n"
   ]
  },
  {
   "cell_type": "markdown",
   "id": "041a835c-2153-4432-a441-da14394d99b6",
   "metadata": {},
   "source": [
    "# Homography"
   ]
  },
  {
   "cell_type": "code",
   "execution_count": 164,
   "id": "80897e3d-0e81-4863-a954-b5c8b6635091",
   "metadata": {},
   "outputs": [
    {
     "data": {
      "text/plain": [
       "None"
      ]
     },
     "metadata": {},
     "output_type": "display_data"
    }
   ],
   "source": [
    "import cv2\n",
    "from IPython.display import display, Image\n",
    "\n",
    "video = cv2.VideoCapture(0)\n",
    "w,h = video.get(cv2.CAP_PROP_FRAME_WIDTH), video.get(cv2.CAP_PROP_FRAME_HEIGHT)\n",
    "T = np.array([[1,  0,  -w/2],[0,  1,  -h/2],[0,  0,   1]])\n",
    "\n",
    "# Skew, for perspective\n",
    "S = np.array([[1, 0, 0],\n",
    "              [0, 1.3, 0],\n",
    "              [0, 1e-3, 1]])\n",
    "\n",
    "display_handle=display(None, display_id=True)\n",
    "try:\n",
    "    while True:\n",
    "        _, frame = video.read()\n",
    "        \n",
    "        quat_i, quat_j, quat_k, quat_real = device.quaternion\n",
    "        yaw = radians(find_heading(quat_real, quat_i, quat_j, quat_k))\n",
    "        roll = radians(find_roll(quat_real, quat_i, quat_j, quat_k))\n",
    "        pitch = radians(find_pitch(quat_real, quat_i, quat_j, quat_k))\n",
    "        # r = R.from_quat([quat_i, quat_j, quat_k, quat_real])\n",
    "        # yaw, pitch, roll = r.as_euler('zxy', degrees=True)\n",
    "        H_z = np.array([\n",
    "            [cos(yaw), -sin(yaw), 0],\n",
    "            [sin(yaw), cos(yaw), 0],\n",
    "            [0, 0, 1]\n",
    "        ])\n",
    "        H_x = np.array([\n",
    "            [1, 0, 0],\n",
    "            [0, cos(roll), -sin(roll)],\n",
    "            [0, sin(roll), cos(roll)]\n",
    "        ])\n",
    "        H_y =np.array([\n",
    "            [cos(pitch), 0, sin(pitch)],\n",
    "            [0, 1, 0],\n",
    "            [-sin(pitch), 0, cos(pitch)]\n",
    "        ])\n",
    "\n",
    "        H = np.matmul(np.matmul(H_y, H_x), H_z)\n",
    "        H = np.linalg.inv(H)\n",
    "        R_2d = np.array([\n",
    "            [H[0][0],  H[0][1], 0],\n",
    "            [H[1][0], H[1][1], 0],\n",
    "            [0, 0, 1]\n",
    "        ])\n",
    "        # print(degrees(roll))\n",
    "        R_2d = np.linalg.inv(T).dot(R_2d).dot(T)\n",
    "        \n",
    "        # frame = ski.transform.homography(frame, S.dot(np.linalg.inv(T).dot(H).dot(T)))\n",
    "        tform = ski.transform.ProjectiveTransform(matrix=R_2d, dimensionality=3)\n",
    "        # tform = ski.transform.EuclideanTransform(rotation=heading, translation=(-w/2, h/2))\n",
    "        # tform = ski.transform.EuclideanTransform(H)\n",
    "        # frame = ski.transform.warp(frame, tform.inverse) * 256\n",
    "        frame = ski.transform.warp(frame, tform) * 256\n",
    "        # frame = cv2.flip(frame, 1)\n",
    "        _, frame = cv2.imencode('.jpeg', frame)\n",
    "        display_handle.update(Image(data=frame.tobytes()))\n",
    "except KeyboardInterrupt:\n",
    "    pass\n",
    "finally:\n",
    "    video.release()\n",
    "    display_handle.update(None)"
   ]
  },
  {
   "cell_type": "markdown",
   "id": "d87f3495-f757-497f-aee7-967a1753773a",
   "metadata": {},
   "source": [
    "# end"
   ]
  },
  {
   "cell_type": "code",
   "execution_count": null,
   "id": "dcac712b-aae5-4ae6-8c28-4f58f11f6279",
   "metadata": {},
   "outputs": [],
   "source": [
    "# from math import atan2, sqrt, pi, degrees, radians, cos, sin\n",
    "# i2c = busio.I2C((1, 14), (1, 15))\n",
    "# device = Imu(i2c, address=0x4b)\n",
    "# device.enable_feature(BNO_REPORT_GRAVITY)\n",
    "# device.enable_feature(BNO_REPORT_ROTATION_VECTOR)\n",
    "# device.enable_feature(BNO_REPORT_GEOMAGNETIC_ROTATION_VECTOR)\n",
    "\n",
    "# while True:\n",
    "#     quat_i, quat_j, quat_k, quat_real = device.quaternion\n",
    "#     while (sqrt(quat_i * quat_i + quat_j * quat_j + quat_k * quat_k + quat_real * quat_real) == 0):\n",
    "#         quat_i, quat_j, quat_k, quat_real = device.quaternion\n",
    "#     # x, y, z = device.gravity\n",
    "#     # print(device.gravity)\n",
    "#     # print(sqrt(x*x + y*y + z*z))\n",
    "#     heading = find_heading(quat_real, quat_i, quat_j, quat_k)\n",
    "#     print(f\"({cos(radians(heading))}, {sin(radians(heading))}, 0)\")"
   ]
  },
  {
   "cell_type": "code",
   "execution_count": null,
   "id": "53977d90-6957-486c-86fa-b59cec2705f2",
   "metadata": {},
   "outputs": [],
   "source": [
    "# display_handle=display(None, display_id=True)\n",
    "# try:   \n",
    "#     X = 640\n",
    "#     Y = 480\n",
    "#     while True:\n",
    "\n",
    "#         qx, qy, qz = device.gravity\n",
    "#         quat_i, quat_j, quat_k, quat_real = device.quaternion\n",
    "#         heading = find_heading(quat_real, quat_i, quat_j, quat_k)\n",
    "        \n",
    "#         # the geomagnetic sensor is unstable\n",
    "#         # Heading is calculated using geomagnetic vector\n",
    "#         geo_quat_i, geo_quat_j, geo_quat_k, geo_quat_real = device.geomagnetic_quaternion\n",
    "#         heading_geo = find_heading(geo_quat_real, geo_quat_i, geo_quat_j, geo_quat_k)\n",
    "        \n",
    "#         image = np.ones((Y, X), dtype = np.uint8)\n",
    "#         image.fill(255)\n",
    "#         image = cv2.cvtColor(image,cv2.COLOR_GRAY2RGB)\n",
    "\n",
    "#         nx, ny, nz = cos(radians(heading)), sin(radians(heading)), 0.\n",
    "#         angle_v = degrees(angle([qx, qy, qz], [nx, ny, nz]))\n",
    "        \n",
    "#         image = cv2.putText(image, f'quat: {int(heading)}', (100, 100), cv2.FONT_HERSHEY_SIMPLEX ,  \n",
    "#                    1, (0, 0, 0) , 2, cv2.LINE_AA)\n",
    "#         image = cv2.putText(image, f'geomag: {int(heading_geo)}', (100, 150), cv2.FONT_HERSHEY_SIMPLEX ,  \n",
    "#                    1, (0, 0, 0) , 2, cv2.LINE_AA)\n",
    "\n",
    "#         image = cv2.putText(image, f\"({nx:.2}, {ny:.2}, {nz:.2})\", (100, 200), cv2.FONT_HERSHEY_SIMPLEX ,  \n",
    "#                    1, (0, 0, 0) , 2, cv2.LINE_AA)\n",
    "        \n",
    "#         image = cv2.putText(image, f\"angle: {angle_v}\", (100, 250), cv2.FONT_HERSHEY_SIMPLEX , 1, (0, 0, 0) , 2, cv2.LINE_AA)\n",
    "#         image = cv2.putText(image, f\"grav: {qx:.2}, {qy:.2}, {qz:.2}\", (100, 300), cv2.FONT_HERSHEY_SIMPLEX , 1, (0, 0, 0) , 2, cv2.LINE_AA)\n",
    "\n",
    "#         r = R.from_euler('y', angle_v - 90, degrees=True)\n",
    "#         vec = [nx, ny, nz]\n",
    "#         vec = r.apply(vec)\n",
    "#         # r = R.from_euler('z', heading, degrees=True)\n",
    "#         # vec = r.apply(vec)\n",
    "\n",
    "#         image = cv2.putText(image, f\"heading_vec: {vec[0]:.2}, {vec[1]:.2}, {vec[2]:.2}\", (100, 350), cv2.FONT_HERSHEY_SIMPLEX , 1, (0, 0, 0) , 2, cv2.LINE_AA)\n",
    "#         # image = cv2.flip(image, 1)\n",
    "#         # print(image.shape, type(image))\n",
    "#         fig = plt.figure()\n",
    "#         ax = fig.add_subplot(111, projection='3d')\n",
    "\n",
    "\n",
    "#         vec_y = np.cross([qx/9, qy/9, -qz/9], [vec[0], vec[1], vec[2]])\n",
    "#         ax.quiver(0, 0, 0, qx/9, qy/9, -qz/9, color='steelblue')\n",
    "#         ax.quiver(0, 0, 0, vec[0], vec[1], vec[2], color='b')\n",
    "#         ax.quiver(0, 0, 0, vec_y[0], vec_y[1], vec_y[2], color='r')\n",
    "#         # ax.quiver(0, 0, 0, nx, ny, nz, color='b')\n",
    "#         # ax.quiver(0, 0, 0, 1, 2, 1)\n",
    "#         ax.set_xlim([-1.1, 1.1])\n",
    "#         ax.set_ylim([-1.1, 1.1])\n",
    "#         ax.set_zlim([-1.1, 1.1])\n",
    "#         fig.canvas.draw()\n",
    "\n",
    "                \n",
    "#         data = np.frombuffer(fig.canvas.tostring_rgb(), dtype=np.uint8)\n",
    "#         data = data.reshape(fig.canvas.get_width_height()[::-1] + (3,))\n",
    "\n",
    "\n",
    "#         angle_v2 = degrees(angle([qx, qy, qz], [vec[0], vec[1], vec[2]]))\n",
    "#         data = cv2.putText(data, f\"angle1: {angle_v}\", (100, 100), cv2.FONT_HERSHEY_SIMPLEX , 1, (0, 0, 0) , 2, cv2.LINE_AA)\n",
    "#         data = cv2.putText(data, f\"angl2e: {angle_v2}\", (100, 150), cv2.FONT_HERSHEY_SIMPLEX , 1, (0, 0, 0) , 2, cv2.LINE_AA)\n",
    "        \n",
    "        \n",
    "        \n",
    "#         _, data = cv2.imencode('.jpeg', data)\n",
    "#         display_handle.update(Image(data=data.tobytes()))\n",
    "        \n",
    "# except KeyboardInterrupt:\n",
    "#     display_handle.update(None)\n",
    "#     pass"
   ]
  }
 ],
 "metadata": {
  "kernelspec": {
   "display_name": "Python 3 (ipykernel)",
   "language": "python",
   "name": "python3"
  },
  "language_info": {
   "codemirror_mode": {
    "name": "ipython",
    "version": 3
   },
   "file_extension": ".py",
   "mimetype": "text/x-python",
   "name": "python",
   "nbconvert_exporter": "python",
   "pygments_lexer": "ipython3",
   "version": "3.9.5"
  }
 },
 "nbformat": 4,
 "nbformat_minor": 5
}
