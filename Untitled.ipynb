{
 "cells": [
  {
   "cell_type": "code",
   "execution_count": 355,
   "id": "06157c80-3425-4dba-9490-f62c6ee2e4b6",
   "metadata": {},
   "outputs": [],
   "source": [
    "from matplotlib import pyplot as plt\n",
    "import numpy as np"
   ]
  },
  {
   "cell_type": "code",
   "execution_count": 374,
   "id": "6cc654e1-4c0d-4b94-a953-a39c2535163d",
   "metadata": {},
   "outputs": [],
   "source": [
    "class GravityMap(np.ndarray):\n",
    "    def __new__(cls, *args, **kwargs):\n",
    "        print('In __new__ with class %s' % cls)\n",
    "        return super().__new__(cls, *args, **kwargs)\n",
    "    def __init__(self, *args, **kwargs):\n",
    "        try:\n",
    "            shape = args[0]\n",
    "        except IndexError:\n",
    "            shape = kwargs[\"shape\"]\n",
    "        for sh in shape:\n",
    "            if sh % 2 == 0:\n",
    "                raise ValueError(\"Shape should be odd\")\n",
    "        # in practice you probably will not need or want an __init__\n",
    "        # method for your subclass\n",
    "        print('In __init__ with class %s' % self.__class__)\n",
    "    def __array_finalize__(self, obj):\n",
    "        # print(\"finzalize\")\n",
    "        pass\n",
    "    \n",
    "    def at(self, key):\n",
    "        new_key = round(key, 0).__int__() + self.shape[0] // 2\n",
    "        # self.__setitem__(new_key)\n",
    "        return new_key\n",
    "\n",
    "    # def __setitem__(self, key, value):\n",
    "        \n",
    "        \n",
    "    # def __getitem__(self, key, /):\n",
    "    #     print(\"asd\")\n",
    "    #     new_key = round(key, 0).__int__() + self.shape[0] // 2\n",
    "    #     data = (np.copy(self.data))[key]\n",
    "    #     # return GravityMap(data.shape, buffer=data)\n",
    "    #     print(GravityMap(data.shape, buffer=data))\n",
    "    #     return data\n",
    "    #     # print(self.copy())\n",
    "        \n",
    "        "
   ]
  },
  {
   "cell_type": "code",
   "execution_count": 375,
   "id": "9a668ba6-7602-488d-b1fa-ab462ff99954",
   "metadata": {},
   "outputs": [
    {
     "name": "stdout",
     "output_type": "stream",
     "text": [
      "In __new__ with class <class '__main__.GravityMap'>\n",
      "In __init__ with class <class '__main__.GravityMap'>\n"
     ]
    }
   ],
   "source": [
    "# mapa = GravityMap(shape=(3, 3),buffer=np.array([[21., 22., 23.], [24., 25., 26.], [27., 28., 29.]]))\n",
    "mapa = GravityMap(shape=(X, Y), buffer=np.zeros((X, Y)))"
   ]
  },
  {
   "cell_type": "code",
   "execution_count": 376,
   "id": "19c16ef6-c7ea-4ff5-9c87-4d2af2b4b85b",
   "metadata": {},
   "outputs": [
    {
     "data": {
      "text/plain": [
       "GravityMap([0., 0., 0., 0., 0., 0., 0., 0., 0., 0., 0., 0., 0., 0., 0.,\n",
       "            0., 0., 0., 0., 0., 0.])"
      ]
     },
     "execution_count": 376,
     "metadata": {},
     "output_type": "execute_result"
    }
   ],
   "source": [
    "mapa[1]"
   ]
  },
  {
   "cell_type": "code",
   "execution_count": 377,
   "id": "af7379b3-8574-466a-bd31-647f38e6e573",
   "metadata": {},
   "outputs": [],
   "source": [
    "LL = 9.8"
   ]
  },
  {
   "cell_type": "code",
   "execution_count": 378,
   "id": "985f460b-e35f-499a-8b43-8445ee98797a",
   "metadata": {},
   "outputs": [],
   "source": [
    "5/ LL * (21 // 2)\n",
    "mapa[mapa.at(0)][mapa.at(0)] = 1"
   ]
  },
  {
   "cell_type": "code",
   "execution_count": 379,
   "id": "3c68c9ef-da45-4782-80f7-faf959cd1db0",
   "metadata": {},
   "outputs": [
    {
     "data": {
      "image/png": "[encoded data removed]",
      "text/plain": [
       "<Figure size 480x480 with 1 Axes>"
      ]
     },
     "metadata": {},
     "output_type": "display_data"
    }
   ],
   "source": [
    "\n",
    "plt.matshow(mapa)\n",
    "plt.show()"
   ]
  }
 ],
 "metadata": {
  "kernelspec": {
   "display_name": "Python 3 (ipykernel)",
   "language": "python",
   "name": "python3"
  },
  "language_info": {
   "codemirror_mode": {
    "name": "ipython",
    "version": 3
   },
   "file_extension": ".py",
   "mimetype": "text/x-python",
   "name": "python",
   "nbconvert_exporter": "python",
   "pygments_lexer": "ipython3",
   "version": "3.8.10"
  }
 },
 "nbformat": 4,
 "nbformat_minor": 5
}
