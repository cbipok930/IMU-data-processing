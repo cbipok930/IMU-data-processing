{
 "cells": [
  {
   "cell_type": "code",
   "execution_count": 1,
   "id": "c5427d8a-ec41-41d9-8cc1-d7c471f351e4",
   "metadata": {},
   "outputs": [],
   "source": [
    "from imu_bno import Imu\n",
    "\n",
    "from adafruit_bno08x import BNO_REPORT_ACCELEROMETER, BNO_REPORT_GYROSCOPE, BNO_REPORT_MAGNETOMETER, BNO_REPORT_GRAVITY, BNO_REPORT_ROTATION_VECTOR, BNO_REPORT_GEOMAGNETIC_ROTATION_VECTOR\n",
    "import busio\n",
    "\n",
    "from multiprocessing import Process\n",
    "from multiprocessing import Event as PEvent\n",
    "from multiprocessing import Queue as PQueue\n",
    "import multiprocessing as mp\n",
    "import queue\n",
    "\n",
    "import time\n",
    "\n",
    "import cv2\n",
    "from IPython.display import display, Image"
   ]
  },
  {
   "cell_type": "markdown",
   "id": "efecbfed-a9a7-4406-8f15-9b7c7e7a6518",
   "metadata": {},
   "source": [
    "```\n",
    "Neural_EKF(\n",
    "  (rnn): LSTM(9, 240, batch_first=True)\n",
    "  (linear): Linear(in_features=240, out_features=3, bias=True)\n",
    ")\n",
    "```"
   ]
  },
  {
   "cell_type": "code",
   "execution_count": 2,
   "id": "a1a305b2-4649-4bb2-aad0-78f60c515463",
   "metadata": {},
   "outputs": [],
   "source": [
    "import numpy as np\n",
    "from matplotlib import pyplot as plt\n",
    "# import pandas as pd\n",
    "import torch\n",
    "import torch.nn as nn\n",
    "\n",
    "class Neural_EKF(nn.Module):\n",
    "  def __init__(self, *args, **kwargs) -> None:\n",
    "    super().__init__(*args, **kwargs)\n",
    "    self.input_size = 9\n",
    "    self.hidden_size_rnn = 240\n",
    "    self.hidden_size_lin = self.hidden_size_rnn#*20\n",
    "    self.output_size = 3\n",
    "    self.n_layers = 1\n",
    "    self.rnn = nn.LSTM(self.input_size, self.hidden_size_rnn, self.n_layers, batch_first=True)\n",
    "    self.linear = nn.Linear(self.hidden_size_lin, self.output_size)\n",
    "    self.loss_val = None\n",
    "  def forward(self, input, target=None, device = 'cpu'):\n",
    "    req_grad = True\n",
    "    if (target is None):\n",
    "      req_grad = False\n",
    "\n",
    "    self.requires_grad_(req_grad)\n",
    "\n",
    "    out, hn = self.rnn(input)\n",
    "\n",
    "\n",
    "    out = nn.functional.relu(out[:, -1])\n",
    "\n",
    "    out = self.linear(out)\n",
    "    return out\n"
   ]
  },
  {
   "cell_type": "code",
   "execution_count": 3,
   "id": "60512cc9-ba05-4e8c-beaf-2a63843706b0",
   "metadata": {},
   "outputs": [],
   "source": [
    "def read_process(dev, que):\n",
    "    while True:\n",
    "        try:\n",
    "            accX, accY, accZ = dev.acceleration\n",
    "            gyroX, gyroY, gyroZ = dev.gyro\n",
    "            magnX, magnY, magnZ = dev.magnetic\n",
    "    \n",
    "            dat_r = [[accX, accY, accZ], [gyroX, gyroY, gyroZ], [magnX, magnY, magnZ]]\n",
    "            # dat =  self.get_ekf_gravity(dat_r)\n",
    "            # gX, gY, gZ = self.sensor.get_ekf_gravity(dat_r)\n",
    "            que.put([accX, accY, accZ, gyroX, gyroY, gyroZ,magnX, magnY, magnZ])\n",
    "            if que.full():\n",
    "                que.get()\n",
    "        except KeyboardInterrupt:\n",
    "            pass"
   ]
  },
  {
   "cell_type": "code",
   "execution_count": 4,
   "id": "8c365d34-9973-4bf0-9bf1-410cd29db213",
   "metadata": {},
   "outputs": [],
   "source": [
    "# model_len60 = Neural_EKF()\n",
    "model_len60 = torch.load(\"LSTM_60L.pt\")\n",
    "model_len60.eval()\n",
    "i2c = busio.I2C((1, 14), (1, 15))\n",
    "dev = Imu(i2c, address=0x4b)\n",
    "dev.enable_feature(BNO_REPORT_GRAVITY)"
   ]
  },
  {
   "cell_type": "code",
   "execution_count": 5,
   "id": "c9c19306-c872-44f8-bba3-6944ba5c8d37",
   "metadata": {},
   "outputs": [],
   "source": [
    "que = PQueue(3)\n",
    "reader = Process(target=read_process, args=(dev, que,), daemon=True)\n",
    "reader.start()"
   ]
  },
  {
   "cell_type": "code",
   "execution_count": 6,
   "id": "01b9ffa8-8af9-43c6-a150-3b3c98e14f0e",
   "metadata": {},
   "outputs": [],
   "source": [
    "def read_data_60hz(que, last_ts):\n",
    "    item = None\n",
    "    while que.empty():\n",
    "        pass\n",
    "    item =  que.get()\n",
    "    end = time.time()\n",
    "    #60Hz\n",
    "    while ((end - last_ts) < 0.0166666667):\n",
    "        end = time.time()\n",
    "        pass\n",
    "    last_ts = end\n",
    "    # item.insert(0, (end + self.last_ts)/2)\n",
    "    # self.last_ts = end\n",
    "    # data.append(item)\n",
    "    return item, last_ts\n",
    "\n",
    "\n",
    "def get_neural_grav60(dev, que, gue_l):\n",
    "    last_ts = time.time()\n",
    "    # grav = np.array([0, 0, -9.8])\n",
    "    while True:\n",
    "        try:\n",
    "            data = []\n",
    "            for i in range(60):\n",
    "                item, last_ts = read_data_60hz(que, last_ts)\n",
    "                data.append(np.array(item))\n",
    "            data = np.array(data)\n",
    "            # print(data)\n",
    "            gue_l.put(data)\n",
    "            if gue_l.full():\n",
    "                gue_l.get()\n",
    "            # grav = grav + model_len60(torch.unsqueeze(torch.Tensor(data), 0)).squeeze(0).numpy()\n",
    "            # print(grav)\n",
    "        except KeyboardInterrupt:\n",
    "            pass\n",
    "\n",
    "def get_gravity(dev, que):\n",
    "    while True:\n",
    "        try:\n",
    "            que.put(dev.gravity)\n",
    "        except KeyboardInterrupt:\n",
    "            pass"
   ]
  },
  {
   "cell_type": "code",
   "execution_count": 7,
   "id": "78d58613-23a3-4452-be42-2031e277cc30",
   "metadata": {},
   "outputs": [
    {
     "data": {
      "text/plain": [
       "None"
      ]
     },
     "metadata": {},
     "output_type": "display_data"
    }
   ],
   "source": [
    "que_l = PQueue(3)\n",
    "reader_l = Process(target=get_neural_grav60, args=(dev, que, que_l,), daemon=True)\n",
    "reader_l.start()\n",
    "\n",
    "# que_g = PQueue(3)\n",
    "# r_g = Process(target=get_gravity, args=(dev, que_g,), daemon=True)\n",
    "# r_g.start()\n",
    "display_handle=display(None, display_id=True)\n",
    "try:   \n",
    "    X = 400\n",
    "    Y = 400\n",
    "    G = 9.80665\n",
    "    grav = np.array([0, 0, -G])\n",
    "    while True:\n",
    "        \n",
    "        # g1b, g2b, g3b = que_g.get()#dev.gravity\n",
    "        g1a, g2a, g3a = grav\n",
    "\n",
    "        try:\n",
    "            dat = que_l.get(block=True, timeout=0.1)\n",
    "            grav = grav + model_len60(torch.unsqueeze(torch.Tensor(dat), 0)).squeeze(0).numpy()\n",
    "        except queue.Empty:\n",
    "            pass\n",
    "\n",
    "        # xb = int(((g1b + G) / (2 * G)) * X) - 1\n",
    "        # yb = int(((-g2b + G) / (2 * G)) * Y) - 1\n",
    "\n",
    "        xa = int(((g1a + G) / (2 * G)) * X) - 1\n",
    "        ya = int(((-g2a + G) / (2 * G)) * Y) - 1\n",
    "        \n",
    "        image = np.ones((X, Y), dtype = np.uint8)\n",
    "        image.fill(0)\n",
    "        # for y_ in range(yb-5, yb+5):\n",
    "        #     image[y_][xb-5:xb+5] = 255\n",
    "        for y_ in range(ya-5, ya+5):\n",
    "            image[y_][xa-5:xa+5] = 255\n",
    "        image = cv2.cvtColor(image,cv2.COLOR_GRAY2RGB)\n",
    "        # image = cv2.flip(image, 1)\n",
    "        # print(image.shape, type(image))\n",
    "        _, image = cv2.imencode('.jpeg', image)\n",
    "        display_handle.update(Image(data=image.tobytes()))\n",
    "        \n",
    "except KeyboardInterrupt:\n",
    "    display_handle.update(None)\n",
    "    pass"
   ]
  },
  {
   "cell_type": "code",
   "execution_count": 10,
   "id": "893cf884-f889-4ba6-842e-199d01328845",
   "metadata": {},
   "outputs": [
    {
     "name": "stdout",
     "output_type": "stream",
     "text": [
      "[-0.07450549  0.08418137 -9.82509445]\n",
      "[-0.1507009   0.13538206 -9.86462771]\n"
     ]
    },
    {
     "name": "stderr",
     "output_type": "stream",
     "text": [
      "\n",
      "KeyboardInterrupt\n",
      "\n"
     ]
    }
   ],
   "source": [
    "que_l = PQueue(3)\n",
    "reader_l = Process(target=get_neural_grav60, args=(dev, que, que_l,), daemon=True)\n",
    "reader_l.start()\n",
    "grav = np.array([0, 0, -9.8])\n",
    "for j in range(20):\n",
    "    # data = []\n",
    "    # for i in range(60):\n",
    "    #     item, last_ts = read_data_60hz(que, last_ts)\n",
    "    #     data.append(np.array(item))\n",
    "    # data = np.array(data)\n",
    "    # # print(data)\n",
    "    data = que_l.get()\n",
    "    grav = grav + model_len60(torch.unsqueeze(torch.Tensor(data), 0)).squeeze(0).numpy()\n",
    "    print(grav)"
   ]
  },
  {
   "cell_type": "markdown",
   "id": "a8921ef2-f347-4375-9d0e-8a4d3f61b739",
   "metadata": {},
   "source": [
    "# Linear"
   ]
  },
  {
   "cell_type": "code",
   "execution_count": 7,
   "id": "9c318297-91ac-4369-b317-395023508bfc",
   "metadata": {},
   "outputs": [],
   "source": [
    "class TrajRegression(nn.Module):\n",
    "  def __init__(self, *args, **kwargs) -> None:\n",
    "    super().__init__(*args, **kwargs)\n",
    "#     self.input_layer = nn.Linear(12, 9)\n",
    "#     self.hidden = nn.Linear(9, 7)\n",
    "#     self.hidden2 = nn.Linear(7, 5)\n",
    "#     self.out_layer = nn.Linear(5, 3)\n",
    "    self.input_layer = nn.Linear(12, 32)\n",
    "    self.hidden_1 = nn.Linear(32, 16)\n",
    "    self.hidden_2 = nn.Linear(16, 8)\n",
    "    self.out_layer = nn.Linear(8, 3)\n",
    "\n",
    "    self.lrelu = nn.LeakyReLU()\n",
    "    self.loss_val = None\n",
    "\n",
    "  def forward(self, input, target=None):\n",
    "    if (target is None):\n",
    "      self.requires_grad_(False)\n",
    "    else:\n",
    "      self.requires_grad_(True)\n",
    "\n",
    "#     x = self.lrelu(self.input_layer(input))\n",
    "#     x = self.lrelu(self.hidden(x))\n",
    "#     x = self.lrelu(self.hidden2(x))\n",
    "    x = self.lrelu(self.input_layer(input))\n",
    "    x = self.lrelu(self.hidden_1(x))\n",
    "    x = self.lrelu(self.hidden_2(x))\n",
    "    output = self.out_layer(x)\n",
    "\n",
    "    return output"
   ]
  },
  {
   "cell_type": "code",
   "execution_count": null,
   "id": "b83afbd1-5134-48cd-9970-d5b1207da3ae",
   "metadata": {},
   "outputs": [],
   "source": [
    "model = torch.load(\"LIN.pt\")\n",
    "model.eval()\n",
    "grav = [0, 0, -9.80665]\n",
    "# last_ts = time.time()\n",
    "# for i in range(100):\n",
    "#     item, last_ts = read_data_60hz(que, last_ts)\n",
    "#     item.append(grav[0])\n",
    "#     item.append(grav[1])\n",
    "#     item.append(grav[2])\n",
    "#     grav = model(torch.unsqueeze(torch.Tensor(item), 0)).squeeze(0).numpy()\n",
    "#     print(grav)"
   ]
  },
  {
   "cell_type": "code",
   "execution_count": 12,
   "id": "2bb79aa3-e62d-4141-9eab-0e86998d596d",
   "metadata": {},
   "outputs": [
    {
     "data": {
      "text/plain": [
       "None"
      ]
     },
     "metadata": {},
     "output_type": "display_data"
    }
   ],
   "source": [
    "\n",
    "display_handle=display(None, display_id=True)\n",
    "try:   \n",
    "    X = 400\n",
    "    Y = 400\n",
    "    G = 9.80665\n",
    "    grav = np.array([0, 0, -G])\n",
    "    last_ts = time.time()\n",
    "    while True:\n",
    "        \n",
    "        # g1b, g2b, g3b = que_g.get()#dev.gravity\n",
    "        g1a, g2a, g3a = grav\n",
    "        item, last_ts = read_data_60hz(que, last_ts)\n",
    "        item = np.array((list(grav) + list(item)))\n",
    "        # item.insert(grav[0])\n",
    "        # item.append(grav[1])\n",
    "        # item.append(grav[2])\n",
    "        grav = model(torch.unsqueeze(torch.Tensor(item), 0)).squeeze(0).numpy()\n",
    "        # try:\n",
    "        #     dat = que_l.get(block=True, timeout=0.1)\n",
    "        #     grav = grav + model_len60(torch.unsqueeze(torch.Tensor(dat), 0)).squeeze(0).numpy()\n",
    "        # except queue.Empty:\n",
    "        #     pass\n",
    "\n",
    "        # xb = int(((g1b + G) / (2 * G)) * X) - 1\n",
    "        # yb = int(((-g2b + G) / (2 * G)) * Y) - 1\n",
    "\n",
    "        xa = int(((g1a + G) / (2 * G)) * X) - 1\n",
    "        ya = int(((-g2a + G) / (2 * G)) * Y) - 1\n",
    "        \n",
    "        image = np.ones((X, Y), dtype = np.uint8)\n",
    "        image.fill(0)\n",
    "        # for y_ in range(yb-5, yb+5):\n",
    "        #     image[y_][xb-5:xb+5] = 255\n",
    "        for y_ in range(ya-5, ya+5):\n",
    "            image[y_][xa-5:xa+5] = 255\n",
    "        image = cv2.cvtColor(image,cv2.COLOR_GRAY2RGB)\n",
    "        # image = cv2.flip(image, 1)\n",
    "        # print(image.shape, type(image))\n",
    "        _, image = cv2.imencode('.jpeg', image)\n",
    "        display_handle.update(Image(data=image.tobytes()))\n",
    "        \n",
    "except KeyboardInterrupt:\n",
    "    display_handle.update(None)\n",
    "    pass"
   ]
  }
 ],
 "metadata": {
  "kernelspec": {
   "display_name": "Python 3 (ipykernel)",
   "language": "python",
   "name": "python3"
  },
  "language_info": {
   "codemirror_mode": {
    "name": "ipython",
    "version": 3
   },
   "file_extension": ".py",
   "mimetype": "text/x-python",
   "name": "python",
   "nbconvert_exporter": "python",
   "pygments_lexer": "ipython3",
   "version": "3.9.5"
  }
 },
 "nbformat": 4,
 "nbformat_minor": 5
}
